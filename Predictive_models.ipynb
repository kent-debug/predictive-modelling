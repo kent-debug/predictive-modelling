{
 "cells": [
  {
   "cell_type": "code",
   "execution_count": null,
   "metadata": {},
   "outputs": [],
   "source": []
  },
  {
   "cell_type": "markdown",
   "metadata": {},
   "source": [
    "supervised ML and unsupervised ML\n",
    "supervised learning aims to solve classification problems. Helps us know which models we are to use.\n",
    "Financial datasets we likely have a regression problem due to presence of numeric values key questions are how much , how many ??\n",
    "\n",
    "linear regression, random forest, decision tree\n",
    "\n",
    "classification problems we have categorical data : KNN, SVM, Naive Bayes, Decision trees, Random forest.\n",
    "Mean square error if low , then we know how our model is working.\n",
    "\n",
    "regression output has contiouns variables such as price. \n",
    "\n",
    "Logistic regression for categorical data. Male/female, yes/no , convert to binary, spam/notspam\n",
    "\n",
    "Categorical data such as Male female, yes or no these are clustering problems\n",
    "\n",
    "unsupervised models\n",
    "These have no labels, such models create clusters, patterns based on data fed into the model.it groups related data points.\n",
    "it doesn tgive you a direct prediction. Algorithms used here are : hamilton distance, \n",
    "\n",
    "Other models\n",
    "reinforcement learning\n",
    "Neural Networks\n",
    "\n",
    "Evalution of models\n",
    "confusion matrix = true negative, false negative, true positive , false positve\n",
    "\n",
    "Training our model \n",
    "Training on 80% of data and test on 20% of the data.\n",
    "over fitting and under fitting- your model needs to be optimal for your prediction to be accurate.\n",
    "\n",
    "To Reduce overfitting , there are methods we use , such as "
   ]
  },
  {
   "cell_type": "code",
   "execution_count": 1,
   "metadata": {},
   "outputs": [],
   "source": [
    "import pandas as pd\n",
    "import numpy as np"
   ]
  },
  {
   "cell_type": "code",
   "execution_count": 2,
   "metadata": {},
   "outputs": [
    {
     "data": {
      "text/html": [
       "<div>\n",
       "<style scoped>\n",
       "    .dataframe tbody tr th:only-of-type {\n",
       "        vertical-align: middle;\n",
       "    }\n",
       "\n",
       "    .dataframe tbody tr th {\n",
       "        vertical-align: top;\n",
       "    }\n",
       "\n",
       "    .dataframe thead th {\n",
       "        text-align: right;\n",
       "    }\n",
       "</style>\n",
       "<table border=\"1\" class=\"dataframe\">\n",
       "  <thead>\n",
       "    <tr style=\"text-align: right;\">\n",
       "      <th></th>\n",
       "      <th>ID</th>\n",
       "      <th>carat</th>\n",
       "      <th>cut</th>\n",
       "      <th>colour</th>\n",
       "      <th>clarity</th>\n",
       "      <th>depth</th>\n",
       "      <th>price</th>\n",
       "      <th>x</th>\n",
       "      <th>y</th>\n",
       "      <th>P</th>\n",
       "      <th>PC</th>\n",
       "    </tr>\n",
       "  </thead>\n",
       "  <tbody>\n",
       "    <tr>\n",
       "      <th>0</th>\n",
       "      <td>1</td>\n",
       "      <td>0.23</td>\n",
       "      <td>Ideal</td>\n",
       "      <td>E</td>\n",
       "      <td>SI2</td>\n",
       "      <td>61.5</td>\n",
       "      <td>326</td>\n",
       "      <td>1417.391304</td>\n",
       "      <td>5.300813</td>\n",
       "      <td>Negative</td>\n",
       "      <td>Negative</td>\n",
       "    </tr>\n",
       "    <tr>\n",
       "      <th>1</th>\n",
       "      <td>2</td>\n",
       "      <td>0.21</td>\n",
       "      <td>Premium</td>\n",
       "      <td>E</td>\n",
       "      <td>SI1</td>\n",
       "      <td>59.8</td>\n",
       "      <td>326</td>\n",
       "      <td>1552.380952</td>\n",
       "      <td>5.451505</td>\n",
       "      <td>Positive</td>\n",
       "      <td>Negative</td>\n",
       "    </tr>\n",
       "    <tr>\n",
       "      <th>2</th>\n",
       "      <td>3</td>\n",
       "      <td>0.23</td>\n",
       "      <td>Good</td>\n",
       "      <td>E</td>\n",
       "      <td>VS1</td>\n",
       "      <td>56.9</td>\n",
       "      <td>327</td>\n",
       "      <td>1421.739130</td>\n",
       "      <td>5.746924</td>\n",
       "      <td>Positve</td>\n",
       "      <td>Negative</td>\n",
       "    </tr>\n",
       "    <tr>\n",
       "      <th>3</th>\n",
       "      <td>4</td>\n",
       "      <td>0.29</td>\n",
       "      <td>Premium</td>\n",
       "      <td>I</td>\n",
       "      <td>VS2</td>\n",
       "      <td>62.4</td>\n",
       "      <td>334</td>\n",
       "      <td>1151.724138</td>\n",
       "      <td>5.352564</td>\n",
       "      <td>NR</td>\n",
       "      <td>Negative</td>\n",
       "    </tr>\n",
       "    <tr>\n",
       "      <th>4</th>\n",
       "      <td>5</td>\n",
       "      <td>0.31</td>\n",
       "      <td>Good</td>\n",
       "      <td>J</td>\n",
       "      <td>SI2</td>\n",
       "      <td>63.3</td>\n",
       "      <td>335</td>\n",
       "      <td>1080.645161</td>\n",
       "      <td>5.292259</td>\n",
       "      <td>NR</td>\n",
       "      <td>Negative</td>\n",
       "    </tr>\n",
       "  </tbody>\n",
       "</table>\n",
       "</div>"
      ],
      "text/plain": [
       "   ID  carat      cut colour clarity  depth  price            x         y  \\\n",
       "0   1   0.23    Ideal      E     SI2   61.5    326  1417.391304  5.300813   \n",
       "1   2   0.21  Premium      E     SI1   59.8    326  1552.380952  5.451505   \n",
       "2   3   0.23     Good      E     VS1   56.9    327  1421.739130  5.746924   \n",
       "3   4   0.29  Premium      I     VS2   62.4    334  1151.724138  5.352564   \n",
       "4   5   0.31     Good      J     SI2   63.3    335  1080.645161  5.292259   \n",
       "\n",
       "          P        PC  \n",
       "0  Negative  Negative  \n",
       "1  Positive  Negative  \n",
       "2   Positve  Negative  \n",
       "3        NR  Negative  \n",
       "4        NR  Negative  "
      ]
     },
     "execution_count": 2,
     "metadata": {},
     "output_type": "execute_result"
    }
   ],
   "source": [
    "club = pd.read_excel('C:/Users/KENNY PC/Downloads/PricingOfDiamonds.xlsx' )\n",
    "club.head()"
   ]
  },
  {
   "cell_type": "code",
   "execution_count": 3,
   "metadata": {},
   "outputs": [
    {
     "name": "stdout",
     "output_type": "stream",
     "text": [
      "<class 'pandas.core.frame.DataFrame'>\n",
      "RangeIndex: 53940 entries, 0 to 53939\n",
      "Data columns (total 11 columns):\n",
      " #   Column   Non-Null Count  Dtype  \n",
      "---  ------   --------------  -----  \n",
      " 0   ID       53940 non-null  int64  \n",
      " 1   carat    53940 non-null  float64\n",
      " 2   cut      53940 non-null  object \n",
      " 3   colour   53940 non-null  object \n",
      " 4   clarity  53940 non-null  object \n",
      " 5   depth    53940 non-null  float64\n",
      " 6   price    53940 non-null  int64  \n",
      " 7   x        53940 non-null  float64\n",
      " 8   y        53940 non-null  float64\n",
      " 9   P        53930 non-null  object \n",
      " 10  PC       53930 non-null  object \n",
      "dtypes: float64(4), int64(2), object(5)\n",
      "memory usage: 4.5+ MB\n"
     ]
    }
   ],
   "source": [
    "club.info()"
   ]
  },
  {
   "cell_type": "code",
   "execution_count": 4,
   "metadata": {},
   "outputs": [
    {
     "data": {
      "text/plain": [
       "ID          0\n",
       "carat       0\n",
       "cut         0\n",
       "colour      0\n",
       "clarity     0\n",
       "depth       0\n",
       "price       0\n",
       "x           0\n",
       "y           0\n",
       "P          10\n",
       "PC         10\n",
       "dtype: int64"
      ]
     },
     "execution_count": 4,
     "metadata": {},
     "output_type": "execute_result"
    }
   ],
   "source": [
    "club.isna().sum()"
   ]
  },
  {
   "cell_type": "code",
   "execution_count": 5,
   "metadata": {},
   "outputs": [
    {
     "data": {
      "text/html": [
       "<div>\n",
       "<style scoped>\n",
       "    .dataframe tbody tr th:only-of-type {\n",
       "        vertical-align: middle;\n",
       "    }\n",
       "\n",
       "    .dataframe tbody tr th {\n",
       "        vertical-align: top;\n",
       "    }\n",
       "\n",
       "    .dataframe thead th {\n",
       "        text-align: right;\n",
       "    }\n",
       "</style>\n",
       "<table border=\"1\" class=\"dataframe\">\n",
       "  <thead>\n",
       "    <tr style=\"text-align: right;\">\n",
       "      <th></th>\n",
       "      <th>ID</th>\n",
       "      <th>carat</th>\n",
       "      <th>cut</th>\n",
       "      <th>colour</th>\n",
       "      <th>clarity</th>\n",
       "      <th>depth</th>\n",
       "      <th>price</th>\n",
       "      <th>x</th>\n",
       "      <th>y</th>\n",
       "      <th>P</th>\n",
       "      <th>PC</th>\n",
       "    </tr>\n",
       "  </thead>\n",
       "  <tbody>\n",
       "    <tr>\n",
       "      <th>0</th>\n",
       "      <td>1</td>\n",
       "      <td>0.23</td>\n",
       "      <td>Ideal</td>\n",
       "      <td>E</td>\n",
       "      <td>SI2</td>\n",
       "      <td>61.5</td>\n",
       "      <td>326</td>\n",
       "      <td>1417.391304</td>\n",
       "      <td>5.300813</td>\n",
       "      <td>Negative</td>\n",
       "      <td>Negative</td>\n",
       "    </tr>\n",
       "    <tr>\n",
       "      <th>1</th>\n",
       "      <td>2</td>\n",
       "      <td>0.21</td>\n",
       "      <td>Premium</td>\n",
       "      <td>E</td>\n",
       "      <td>SI1</td>\n",
       "      <td>59.8</td>\n",
       "      <td>326</td>\n",
       "      <td>1552.380952</td>\n",
       "      <td>5.451505</td>\n",
       "      <td>Positive</td>\n",
       "      <td>Negative</td>\n",
       "    </tr>\n",
       "    <tr>\n",
       "      <th>2</th>\n",
       "      <td>3</td>\n",
       "      <td>0.23</td>\n",
       "      <td>Good</td>\n",
       "      <td>E</td>\n",
       "      <td>VS1</td>\n",
       "      <td>56.9</td>\n",
       "      <td>327</td>\n",
       "      <td>1421.739130</td>\n",
       "      <td>5.746924</td>\n",
       "      <td>Positve</td>\n",
       "      <td>Negative</td>\n",
       "    </tr>\n",
       "    <tr>\n",
       "      <th>3</th>\n",
       "      <td>4</td>\n",
       "      <td>0.29</td>\n",
       "      <td>Premium</td>\n",
       "      <td>I</td>\n",
       "      <td>VS2</td>\n",
       "      <td>62.4</td>\n",
       "      <td>334</td>\n",
       "      <td>1151.724138</td>\n",
       "      <td>5.352564</td>\n",
       "      <td>NR</td>\n",
       "      <td>Negative</td>\n",
       "    </tr>\n",
       "    <tr>\n",
       "      <th>4</th>\n",
       "      <td>5</td>\n",
       "      <td>0.31</td>\n",
       "      <td>Good</td>\n",
       "      <td>J</td>\n",
       "      <td>SI2</td>\n",
       "      <td>63.3</td>\n",
       "      <td>335</td>\n",
       "      <td>1080.645161</td>\n",
       "      <td>5.292259</td>\n",
       "      <td>NR</td>\n",
       "      <td>Negative</td>\n",
       "    </tr>\n",
       "  </tbody>\n",
       "</table>\n",
       "</div>"
      ],
      "text/plain": [
       "   ID  carat      cut colour clarity  depth  price            x         y  \\\n",
       "0   1   0.23    Ideal      E     SI2   61.5    326  1417.391304  5.300813   \n",
       "1   2   0.21  Premium      E     SI1   59.8    326  1552.380952  5.451505   \n",
       "2   3   0.23     Good      E     VS1   56.9    327  1421.739130  5.746924   \n",
       "3   4   0.29  Premium      I     VS2   62.4    334  1151.724138  5.352564   \n",
       "4   5   0.31     Good      J     SI2   63.3    335  1080.645161  5.292259   \n",
       "\n",
       "          P        PC  \n",
       "0  Negative  Negative  \n",
       "1  Positive  Negative  \n",
       "2   Positve  Negative  \n",
       "3        NR  Negative  \n",
       "4        NR  Negative  "
      ]
     },
     "execution_count": 5,
     "metadata": {},
     "output_type": "execute_result"
    }
   ],
   "source": [
    "club22= club.dropna()\n",
    "club22.head()"
   ]
  },
  {
   "cell_type": "code",
   "execution_count": 6,
   "metadata": {},
   "outputs": [
    {
     "data": {
      "text/plain": [
       "ID         0\n",
       "carat      0\n",
       "cut        0\n",
       "colour     0\n",
       "clarity    0\n",
       "depth      0\n",
       "price      0\n",
       "x          0\n",
       "y          0\n",
       "P          0\n",
       "PC         0\n",
       "dtype: int64"
      ]
     },
     "execution_count": 6,
     "metadata": {},
     "output_type": "execute_result"
    }
   ],
   "source": [
    "club22.isna().sum()"
   ]
  },
  {
   "cell_type": "code",
   "execution_count": 7,
   "metadata": {},
   "outputs": [
    {
     "data": {
      "text/plain": [
       "(53930, 11)"
      ]
     },
     "execution_count": 7,
     "metadata": {},
     "output_type": "execute_result"
    }
   ],
   "source": [
    "club22.shape"
   ]
  },
  {
   "cell_type": "code",
   "execution_count": 8,
   "metadata": {},
   "outputs": [],
   "source": [
    "import matplotlib as mat\n",
    "import seaborn as sns"
   ]
  },
  {
   "cell_type": "code",
   "execution_count": 9,
   "metadata": {},
   "outputs": [
    {
     "data": {
      "text/plain": [
       "<Axes: >"
      ]
     },
     "execution_count": 9,
     "metadata": {},
     "output_type": "execute_result"
    },
    {
     "data": {
      "image/png": "[encoded data removed]",
      "text/plain": [
       "<Figure size 640x480 with 1 Axes>"
      ]
     },
     "metadata": {},
     "output_type": "display_data"
    }
   ],
   "source": [
    "sns.boxplot(club)"
   ]
  },
  {
   "cell_type": "code",
   "execution_count": 10,
   "metadata": {},
   "outputs": [
    {
     "data": {
      "text/html": [
       "<div>\n",
       "<style scoped>\n",
       "    .dataframe tbody tr th:only-of-type {\n",
       "        vertical-align: middle;\n",
       "    }\n",
       "\n",
       "    .dataframe tbody tr th {\n",
       "        vertical-align: top;\n",
       "    }\n",
       "\n",
       "    .dataframe thead th {\n",
       "        text-align: right;\n",
       "    }\n",
       "</style>\n",
       "<table border=\"1\" class=\"dataframe\">\n",
       "  <thead>\n",
       "    <tr style=\"text-align: right;\">\n",
       "      <th></th>\n",
       "      <th>carat</th>\n",
       "      <th>cut</th>\n",
       "      <th>colour</th>\n",
       "      <th>clarity</th>\n",
       "      <th>depth</th>\n",
       "      <th>price</th>\n",
       "      <th>x</th>\n",
       "      <th>y</th>\n",
       "      <th>P</th>\n",
       "      <th>PC</th>\n",
       "    </tr>\n",
       "  </thead>\n",
       "  <tbody>\n",
       "    <tr>\n",
       "      <th>0</th>\n",
       "      <td>0.23</td>\n",
       "      <td>Ideal</td>\n",
       "      <td>E</td>\n",
       "      <td>SI2</td>\n",
       "      <td>61.5</td>\n",
       "      <td>326</td>\n",
       "      <td>1417.391304</td>\n",
       "      <td>5.300813</td>\n",
       "      <td>Negative</td>\n",
       "      <td>Negative</td>\n",
       "    </tr>\n",
       "    <tr>\n",
       "      <th>1</th>\n",
       "      <td>0.21</td>\n",
       "      <td>Premium</td>\n",
       "      <td>E</td>\n",
       "      <td>SI1</td>\n",
       "      <td>59.8</td>\n",
       "      <td>326</td>\n",
       "      <td>1552.380952</td>\n",
       "      <td>5.451505</td>\n",
       "      <td>Positive</td>\n",
       "      <td>Negative</td>\n",
       "    </tr>\n",
       "    <tr>\n",
       "      <th>2</th>\n",
       "      <td>0.23</td>\n",
       "      <td>Good</td>\n",
       "      <td>E</td>\n",
       "      <td>VS1</td>\n",
       "      <td>56.9</td>\n",
       "      <td>327</td>\n",
       "      <td>1421.739130</td>\n",
       "      <td>5.746924</td>\n",
       "      <td>Positve</td>\n",
       "      <td>Negative</td>\n",
       "    </tr>\n",
       "    <tr>\n",
       "      <th>3</th>\n",
       "      <td>0.29</td>\n",
       "      <td>Premium</td>\n",
       "      <td>I</td>\n",
       "      <td>VS2</td>\n",
       "      <td>62.4</td>\n",
       "      <td>334</td>\n",
       "      <td>1151.724138</td>\n",
       "      <td>5.352564</td>\n",
       "      <td>NR</td>\n",
       "      <td>Negative</td>\n",
       "    </tr>\n",
       "    <tr>\n",
       "      <th>4</th>\n",
       "      <td>0.31</td>\n",
       "      <td>Good</td>\n",
       "      <td>J</td>\n",
       "      <td>SI2</td>\n",
       "      <td>63.3</td>\n",
       "      <td>335</td>\n",
       "      <td>1080.645161</td>\n",
       "      <td>5.292259</td>\n",
       "      <td>NR</td>\n",
       "      <td>Negative</td>\n",
       "    </tr>\n",
       "  </tbody>\n",
       "</table>\n",
       "</div>"
      ],
      "text/plain": [
       "   carat      cut colour clarity  depth  price            x         y  \\\n",
       "0   0.23    Ideal      E     SI2   61.5    326  1417.391304  5.300813   \n",
       "1   0.21  Premium      E     SI1   59.8    326  1552.380952  5.451505   \n",
       "2   0.23     Good      E     VS1   56.9    327  1421.739130  5.746924   \n",
       "3   0.29  Premium      I     VS2   62.4    334  1151.724138  5.352564   \n",
       "4   0.31     Good      J     SI2   63.3    335  1080.645161  5.292259   \n",
       "\n",
       "          P        PC  \n",
       "0  Negative  Negative  \n",
       "1  Positive  Negative  \n",
       "2   Positve  Negative  \n",
       "3        NR  Negative  \n",
       "4        NR  Negative  "
      ]
     },
     "execution_count": 10,
     "metadata": {},
     "output_type": "execute_result"
    }
   ],
   "source": [
    "club33 = club22.drop(columns=['ID'])\n",
    "club33.head()"
   ]
  },
  {
   "cell_type": "code",
   "execution_count": 11,
   "metadata": {},
   "outputs": [
    {
     "data": {
      "text/plain": [
       "<Axes: >"
      ]
     },
     "execution_count": 11,
     "metadata": {},
     "output_type": "execute_result"
    },
    {
     "data": {
      "image/png": "[encoded data removed]",
      "text/plain": [
       "<Figure size 640x480 with 1 Axes>"
      ]
     },
     "metadata": {},
     "output_type": "display_data"
    }
   ],
   "source": [
    "sns.boxplot(club33)"
   ]
  },
  {
   "cell_type": "code",
   "execution_count": 13,
   "metadata": {},
   "outputs": [
    {
     "data": {
      "text/plain": [
       "<Axes: xlabel='depth', ylabel='x'>"
      ]
     },
     "execution_count": 13,
     "metadata": {},
     "output_type": "execute_result"
    },
    {
     "data": {
      "image/png": "[encoded data removed]",
      "text/plain": [
       "<Figure size 640x480 with 1 Axes>"
      ]
     },
     "metadata": {},
     "output_type": "display_data"
    }
   ],
   "source": [
    "sns.barplot(x='depth', y='x',hue='carat',data=club33)\n"
   ]
  },
  {
   "cell_type": "code",
   "execution_count": 14,
   "metadata": {},
   "outputs": [
    {
     "data": {
      "text/plain": [
       "<Axes: xlabel='depth', ylabel='price'>"
      ]
     },
     "execution_count": 14,
     "metadata": {},
     "output_type": "execute_result"
    },
    {
     "data": {
      "image/png": "[encoded data removed]",
      "text/plain": [
       "<Figure size 640x480 with 1 Axes>"
      ]
     },
     "metadata": {},
     "output_type": "display_data"
    }
   ],
   "source": [
    "sns.barplot(x='depth', y='price',data=club33)"
   ]
  },
  {
   "cell_type": "code",
   "execution_count": 19,
   "metadata": {},
   "outputs": [
    {
     "data": {
      "text/plain": [
       "<Axes: xlabel='carat', ylabel='y'>"
      ]
     },
     "execution_count": 19,
     "metadata": {},
     "output_type": "execute_result"
    },
    {
     "data": {
      "image/png": "[encoded data removed]",
      "text/plain": [
       "<Figure size 640x480 with 1 Axes>"
      ]
     },
     "metadata": {},
     "output_type": "display_data"
    }
   ],
   "source": [
    "sns.barplot(x='carat', y='y',data=club33)"
   ]
  },
  {
   "cell_type": "code",
   "execution_count": 29,
   "metadata": {},
   "outputs": [],
   "source": [
    "\n",
    "club33 = club33.apply(pd.to_numeric , errors='coerce')\n",
    "\n",
    "# Step 2: Drop rows with NaN values\n",
    "club33 = club33.dropna()\n",
    "\n",
    "# Step 3: Calculate Z-Scores for each column\n",
    "z_scores = np.abs((club33 - club33.mean()) / club33.std())\n",
    "\n",
    "# Step 4: Filter out outliers\n",
    "threshold = 3\n",
    "cleanclub44 = club33[(z_scores < threshold).all(axis=1)]"
   ]
  },
  {
   "cell_type": "code",
   "execution_count": 28,
   "metadata": {},
   "outputs": [
    {
     "data": {
      "text/plain": [
       "<Axes: >"
      ]
     },
     "execution_count": 28,
     "metadata": {},
     "output_type": "execute_result"
    },
    {
     "data": {
      "image/png": "[encoded data removed]",
      "text/plain": [
       "<Figure size 640x480 with 1 Axes>"
      ]
     },
     "metadata": {},
     "output_type": "display_data"
    }
   ],
   "source": [
    "sns.boxplot(cleanclub44)"
   ]
  }
 ],
 "metadata": {
  "kernelspec": {
   "display_name": "Python 3",
   "language": "python",
   "name": "python3"
  },
  "language_info": {
   "codemirror_mode": {
    "name": "ipython",
    "version": 3
   },
   "file_extension": ".py",
   "mimetype": "text/x-python",
   "name": "python",
   "nbconvert_exporter": "python",
   "pygments_lexer": "ipython3",
   "version": "3.12.2"
  }
 },
 "nbformat": 4,
 "nbformat_minor": 2
}
