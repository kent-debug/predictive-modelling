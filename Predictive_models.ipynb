{
 "cells": [
  {
   "cell_type": "code",
   "execution_count": null,
   "metadata": {},
   "outputs": [],
   "source": []
  },
  {
   "cell_type": "markdown",
   "metadata": {},
   "source": [
    "supervised ML and unsupervised ML\n",
    "supervised learning aims to solve classification problems. Helps us know which models we are to use.\n",
    "Financial datasets we likely have a regression problem due to presence of numeric values key questions are how much , how many ??\n",
    "\n",
    "linear regression, random forest, decision tree\n",
    "\n",
    "classification problems we have categorical data : KNN, SVM, Naive Bayes, Decision trees, Random forest.\n",
    "Mean square error if low , then we know how our model is working.\n",
    "\n",
    "regression output has contiouns variables such as price. \n",
    "\n",
    "Logistic regression for categorical data. Male/female, yes/no , convert to binary, spam/notspam\n",
    "\n",
    "Categorical data such as Male female, yes or no these are clustering problems\n",
    "\n",
    "unsupervised models\n",
    "These have no labels, such models create clusters, patterns based on data fed into the model.it groups related data points.\n",
    "it doesn tgive you a direct prediction. Algorithms used here are : \n",
    "\n",
    "Other models\n",
    "reinforcement learning\n",
    "Neural Networks\n",
    "\n",
    "Evalution of models\n",
    "confusion matrix = true negative, false negative, true positive , false positve\n",
    "\n",
    "Training our model \n",
    "Training on 80% of data and test on 20% of the data.\n",
    "over fitting and under fitting- your model needs to be optimal for your prediction to be accurate.\n",
    "\n",
    "To Reduce overfitting , there are methods we use , such as "
   ]
  }
 ],
 "metadata": {
  "kernelspec": {
   "display_name": "Python 3",
   "language": "python",
   "name": "python3"
  },
  "language_info": {
   "name": "python",
   "version": "3.12.2"
  }
 },
 "nbformat": 4,
 "nbformat_minor": 2
}
